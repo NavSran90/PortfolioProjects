{
 "cells": [
  {
   "cell_type": "code",
   "execution_count": 2,
   "id": "e192ca1e",
   "metadata": {},
   "outputs": [],
   "source": [
    "#import libraries\n",
    "from bs4 import BeautifulSoup #library to pull data out of HTMl and XML files\n",
    "import requests\n",
    "import time\n",
    "import datetime\n",
    "import smtplib"
   ]
  },
  {
   "cell_type": "code",
   "execution_count": 3,
   "id": "45e6055d",
   "metadata": {},
   "outputs": [
    {
     "name": "stdout",
     "output_type": "stream",
     "text": [
      "\n",
      "          8/6/4-in-1 USB-C Hub Adapter Type-C Hub HDMI For MacBook Pro/Air iPad Pro Laptop\n",
      "         \n",
      "\n",
      "\n",
      "\n",
      "\n",
      "\n",
      "\n",
      "                    AU $14.25 each\n",
      "                    \n",
      "\n",
      "\n",
      "\n",
      "\n",
      "\n"
     ]
    }
   ],
   "source": [
    "#connect to website\n",
    "URL='https://www.ebay.com.au/itm/403721064985?_trkparms=amclksrc%3DITM%26aid%3D777008%26algo%3DPERSONAL.TOPIC%26ao%3D1%26asc%3D20221102144100%26meid%3D01478d091bf34af7b392a657a40c644e%26pid%3D101259%26rk%3D1%26rkt%3D1%26itm%3D403721064985%26pmt%3D1%26noa%3D1%26pg%3D2380057%26algv%3DPersonalizedTopicsV2WithWatchlistFeaturesAndTopicMLR&_trksid=p2380057.c101259.m47269&_trkparms=pageci%3Aca702d8d-ef98-11ed-8eb5-f624646b0e42%7Cparentrq%3A085d27d81880a45b15dc9795fffdbf32%7Ciid%3A2'\n",
    "#http://httpbin.org/get (Get headers for your machine)\n",
    "headers = {\"User-Agent\": \"Mozilla/5.0 (Windows NT 10.0; Win64; x64) AppleWebKit/537.36 (KHTML, like Gecko) Chrome/113.0.0.0 Safari/537.36 Edg/113.0.1774.35\"}\n",
    "\n",
    "page = requests.get(URL,headers=headers)\n",
    "\n",
    "soup1=BeautifulSoup(page.content,\"html.parser\")\n",
    "\n",
    "soup2=BeautifulSoup(soup1.prettify(),\"html.parser\") #makes the html content look prettier\n",
    "\n",
    "title=soup2.find(id='vi-lkhdr-itmTitl').get_text()\n",
    "\n",
    "price=soup2.find(itemprop ='price').get_text()\n",
    "\n",
    "print(title)\n",
    "\n",
    "print(price)\n"
   ]
  },
  {
   "cell_type": "code",
   "execution_count": 6,
   "id": "0543c595",
   "metadata": {},
   "outputs": [
    {
     "name": "stdout",
     "output_type": "stream",
     "text": [
      "8/6/4-in-1 USB-C Hub Adapter Type-C Hub HDMI For MacBook Pro/Air iPad Pro Laptop\n",
      "\n"
     ]
    }
   ],
   "source": [
    "#Cleaning the data(making it more usable to import it into a csv file)\n",
    "price=price.strip()[:-5]\n",
    "price=price.strip()[4:]\n",
    "title=title.strip()\n",
    "print(title)\n",
    "print(price)\n"
   ]
  },
  {
   "cell_type": "code",
   "execution_count": 7,
   "id": "5efb16d0",
   "metadata": {},
   "outputs": [
    {
     "name": "stdout",
     "output_type": "stream",
     "text": [
      "2023-05-11\n"
     ]
    }
   ],
   "source": [
    "import datetime\n",
    "today=datetime.date.today()\n",
    "print(today)"
   ]
  },
  {
   "cell_type": "code",
   "execution_count": 9,
   "id": "b15860c4",
   "metadata": {},
   "outputs": [],
   "source": [
    "#creating a csv file\n",
    "import csv\n",
    "header=['Product Name','Price','Date']\n",
    "data=[title,price,today]\n",
    "\n",
    "#with open('eBay web scraper dataset.csv','w',newline='',encoding='UTF8') as f:\n",
    "    #writer=csv.writer(f)\n",
    "    #writer.writerow(header)\n",
    "    #writer.writerow(data)"
   ]
  },
  {
   "cell_type": "code",
   "execution_count": 5,
   "id": "f2878513",
   "metadata": {
    "scrolled": true
   },
   "outputs": [
    {
     "name": "stdout",
     "output_type": "stream",
     "text": [
      "                                          Product Name  Price        Date\n",
      "0    USB-C Hub Adapter Type-C Hub HDMI For MacBook ...  14.25  2023-05-11\n",
      "1    USB-C Hub Adapter Type-C Hub HDMI For MacBook ...  14.25  2023-05-11\n",
      "2    USB-C Hub Adapter Type-C Hub HDMI For MacBook ...  14.25  2023-05-11\n",
      "3    USB-C Hub Adapter Type-C Hub HDMI For MacBook ...  14.25  2023-05-11\n",
      "4    USB-C Hub Adapter Type-C Hub HDMI For MacBook ...  14.25  2023-05-11\n",
      "..                                                 ...    ...         ...\n",
      "144  8/6/4-in-1 USB-C Hub Adapter Type-C Hub HDMI F...  14.25  2023-05-11\n",
      "145  8/6/4-in-1 USB-C Hub Adapter Type-C Hub HDMI F...  14.25  2023-05-11\n",
      "146  8/6/4-in-1 USB-C Hub Adapter Type-C Hub HDMI F...  14.25  2023-05-11\n",
      "147  8/6/4-in-1 USB-C Hub Adapter Type-C Hub HDMI F...  14.25  2023-05-11\n",
      "148  8/6/4-in-1 USB-C Hub Adapter Type-C Hub HDMI F...  14.25  2023-05-11\n",
      "\n",
      "[149 rows x 3 columns]\n"
     ]
    }
   ],
   "source": [
    "import pandas as pd\n",
    "df=pd.read_csv(r'C:\\Users\\NKaur\\eBay Web Scraping Project\\eBay web scraper dataset.csv')\n",
    "print(df)"
   ]
  },
  {
   "cell_type": "code",
   "execution_count": 11,
   "id": "dfa63469",
   "metadata": {},
   "outputs": [],
   "source": [
    "#Append data to the csv\n",
    "with open('eBay web scraper dataset.csv','a+',newline='',encoding='UTF8') as f:\n",
    "    writer=csv.writer(f)\n",
    "    writer.writerow(data)"
   ]
  },
  {
   "cell_type": "code",
   "execution_count": 10,
   "id": "66d2b017",
   "metadata": {},
   "outputs": [],
   "source": [
    "#Create a funnction to automate the process of adding the data to the CSV\n",
    "def check_price():\n",
    "    \n",
    "    URL='https://www.ebay.com.au/itm/403721064985?_trkparms=amclksrc%3DITM%26aid%3D777008%26algo%3DPERSONAL.TOPIC%26ao%3D1%26asc%3D20221102144100%26meid%3D01478d091bf34af7b392a657a40c644e%26pid%3D101259%26rk%3D1%26rkt%3D1%26itm%3D403721064985%26pmt%3D1%26noa%3D1%26pg%3D2380057%26algv%3DPersonalizedTopicsV2WithWatchlistFeaturesAndTopicMLR&_trksid=p2380057.c101259.m47269&_trkparms=pageci%3Aca702d8d-ef98-11ed-8eb5-f624646b0e42%7Cparentrq%3A085d27d81880a45b15dc9795fffdbf32%7Ciid%3A2'\n",
    "\n",
    "    headers = {\"User-Agent\": \"Mozilla/5.0 (Windows NT 10.0; Win64; x64) AppleWebKit/537.36 (KHTML, like Gecko) Chrome/113.0.0.0 Safari/537.36 Edg/113.0.1774.35\"}\n",
    "\n",
    "    page = requests.get(URL,headers=headers)\n",
    "\n",
    "    soup1=BeautifulSoup(page.content,\"html.parser\")\n",
    "\n",
    "    soup2=BeautifulSoup(soup1.prettify(),\"html.parser\") #makes the html content look prettier\n",
    "\n",
    "    title=soup2.find(id='vi-lkhdr-itmTitl').get_text()\n",
    "\n",
    "    price=soup2.find(itemprop ='price').get_text()\n",
    "\n",
    "    price=price.strip()[:-5]\n",
    "\n",
    "    price=price.strip()[4:]\n",
    "\n",
    "    title=title.strip()\n",
    "\n",
    "    import datetime\n",
    "\n",
    "    today=datetime.date.today()\n",
    "\n",
    "    import csv\n",
    "\n",
    "    header=['Product Name','Price','Date']\n",
    "\n",
    "    data=[title,price,today]\n",
    "\n",
    "    with open('eBay web scraper dataset.csv','a+',newline='',encoding='UTF8') as f:\n",
    "    \n",
    "      writer=csv.writer(f)\n",
    "    \n",
    "      writer.writerow(data)\n",
    "             \n",
    "        "
   ]
  },
  {
   "cell_type": "code",
   "execution_count": 9,
   "id": "646129b0",
   "metadata": {},
   "outputs": [
    {
     "ename": "NameError",
     "evalue": "name 'requests' is not defined",
     "output_type": "error",
     "traceback": [
      "\u001b[1;31m---------------------------------------------------------------------------\u001b[0m",
      "\u001b[1;31mNameError\u001b[0m                                 Traceback (most recent call last)",
      "Cell \u001b[1;32mIn[9], line 3\u001b[0m\n\u001b[0;32m      1\u001b[0m \u001b[38;5;66;03m#Set a timer to run the above function in the background\u001b[39;00m\n\u001b[0;32m      2\u001b[0m \u001b[38;5;28;01mwhile\u001b[39;00m(\u001b[38;5;28;01mTrue\u001b[39;00m):\n\u001b[1;32m----> 3\u001b[0m     \u001b[43mcheck_price\u001b[49m\u001b[43m(\u001b[49m\u001b[43m)\u001b[49m\n\u001b[0;32m      4\u001b[0m     time\u001b[38;5;241m.\u001b[39msleep(\u001b[38;5;241m10\u001b[39m)\n",
      "Cell \u001b[1;32mIn[8], line 8\u001b[0m, in \u001b[0;36mcheck_price\u001b[1;34m()\u001b[0m\n\u001b[0;32m      4\u001b[0m URL\u001b[38;5;241m=\u001b[39m\u001b[38;5;124m'\u001b[39m\u001b[38;5;124mhttps://www.ebay.com.au/itm/403721064985?_trkparms=amclksrc\u001b[39m\u001b[38;5;124m%\u001b[39m\u001b[38;5;124m3DITM\u001b[39m\u001b[38;5;132;01m%26a\u001b[39;00m\u001b[38;5;124mid\u001b[39m\u001b[38;5;124m%\u001b[39m\u001b[38;5;124m3D777008\u001b[39m\u001b[38;5;132;01m%26a\u001b[39;00m\u001b[38;5;124mlgo\u001b[39m\u001b[38;5;124m%\u001b[39m\u001b[38;5;124m3DPERSONAL.TOPIC\u001b[39m\u001b[38;5;132;01m%26a\u001b[39;00m\u001b[38;5;124mo\u001b[39m\u001b[38;5;124m%\u001b[39m\u001b[38;5;124m3D1\u001b[39m\u001b[38;5;132;01m%26a\u001b[39;00m\u001b[38;5;124msc\u001b[39m\u001b[38;5;124m%\u001b[39m\u001b[38;5;124m3D20221102144100\u001b[39m\u001b[38;5;124m%\u001b[39m\u001b[38;5;124m26meid\u001b[39m\u001b[38;5;124m%\u001b[39m\u001b[38;5;124m3D01478d091bf34af7b392a657a40c644e\u001b[39m\u001b[38;5;124m%\u001b[39m\u001b[38;5;124m26pid\u001b[39m\u001b[38;5;124m%\u001b[39m\u001b[38;5;124m3D101259\u001b[39m\u001b[38;5;132;01m%26r\u001b[39;00m\u001b[38;5;124mk\u001b[39m\u001b[38;5;124m%\u001b[39m\u001b[38;5;124m3D1\u001b[39m\u001b[38;5;132;01m%26r\u001b[39;00m\u001b[38;5;124mkt\u001b[39m\u001b[38;5;124m%\u001b[39m\u001b[38;5;124m3D1\u001b[39m\u001b[38;5;132;01m%26i\u001b[39;00m\u001b[38;5;124mtm\u001b[39m\u001b[38;5;124m%\u001b[39m\u001b[38;5;124m3D403721064985\u001b[39m\u001b[38;5;124m%\u001b[39m\u001b[38;5;124m26pmt\u001b[39m\u001b[38;5;124m%\u001b[39m\u001b[38;5;124m3D1\u001b[39m\u001b[38;5;124m%\u001b[39m\u001b[38;5;124m26noa\u001b[39m\u001b[38;5;124m%\u001b[39m\u001b[38;5;124m3D1\u001b[39m\u001b[38;5;124m%\u001b[39m\u001b[38;5;124m26pg\u001b[39m\u001b[38;5;124m%\u001b[39m\u001b[38;5;124m3D2380057\u001b[39m\u001b[38;5;132;01m%26a\u001b[39;00m\u001b[38;5;124mlgv\u001b[39m\u001b[38;5;124m%\u001b[39m\u001b[38;5;124m3DPersonalizedTopicsV2WithWatchlistFeaturesAndTopicMLR&_trksid=p2380057.c101259.m47269&_trkparms=pageci\u001b[39m\u001b[38;5;124m%\u001b[39m\u001b[38;5;124m3Aca702d8d-ef98-11ed-8eb5-f624646b0e42\u001b[39m\u001b[38;5;124m%\u001b[39m\u001b[38;5;124m7Cparentrq\u001b[39m\u001b[38;5;124m%\u001b[39m\u001b[38;5;124m3A085d27d81880a45b15dc9795fffdbf32\u001b[39m\u001b[38;5;124m%\u001b[39m\u001b[38;5;124m7Ciid\u001b[39m\u001b[38;5;124m%\u001b[39m\u001b[38;5;124m3A2\u001b[39m\u001b[38;5;124m'\u001b[39m\n\u001b[0;32m      6\u001b[0m headers \u001b[38;5;241m=\u001b[39m {\u001b[38;5;124m\"\u001b[39m\u001b[38;5;124mUser-Agent\u001b[39m\u001b[38;5;124m\"\u001b[39m: \u001b[38;5;124m\"\u001b[39m\u001b[38;5;124mMozilla/5.0 (Windows NT 10.0; Win64; x64) AppleWebKit/537.36 (KHTML, like Gecko) Chrome/113.0.0.0 Safari/537.36 Edg/113.0.1774.35\u001b[39m\u001b[38;5;124m\"\u001b[39m}\n\u001b[1;32m----> 8\u001b[0m page \u001b[38;5;241m=\u001b[39m \u001b[43mrequests\u001b[49m\u001b[38;5;241m.\u001b[39mget(URL,headers\u001b[38;5;241m=\u001b[39mheaders)\n\u001b[0;32m     10\u001b[0m soup1\u001b[38;5;241m=\u001b[39mBeautifulSoup(page\u001b[38;5;241m.\u001b[39mcontent,\u001b[38;5;124m\"\u001b[39m\u001b[38;5;124mhtml.parser\u001b[39m\u001b[38;5;124m\"\u001b[39m)\n\u001b[0;32m     12\u001b[0m soup2\u001b[38;5;241m=\u001b[39mBeautifulSoup(soup1\u001b[38;5;241m.\u001b[39mprettify(),\u001b[38;5;124m\"\u001b[39m\u001b[38;5;124mhtml.parser\u001b[39m\u001b[38;5;124m\"\u001b[39m) \u001b[38;5;66;03m#makes the html content look prettier\u001b[39;00m\n",
      "\u001b[1;31mNameError\u001b[0m: name 'requests' is not defined"
     ]
    }
   ],
   "source": [
    "#Set a timer to run the above function in the background\n",
    "while(True):\n",
    "    check_price()\n",
    "    time.sleep(10)"
   ]
  },
  {
   "cell_type": "code",
   "execution_count": 13,
   "id": "d60cca12",
   "metadata": {},
   "outputs": [
    {
     "name": "stdout",
     "output_type": "stream",
     "text": [
      "                                          Product Name  Price        Date\n",
      "0    USB-C Hub Adapter Type-C Hub HDMI For MacBook ...  14.25  2023-05-11\n",
      "1    USB-C Hub Adapter Type-C Hub HDMI For MacBook ...  14.25  2023-05-11\n",
      "2    USB-C Hub Adapter Type-C Hub HDMI For MacBook ...  14.25  2023-05-11\n",
      "3    USB-C Hub Adapter Type-C Hub HDMI For MacBook ...  14.25  2023-05-11\n",
      "4    USB-C Hub Adapter Type-C Hub HDMI For MacBook ...  14.25  2023-05-11\n",
      "..                                                 ...    ...         ...\n",
      "144  8/6/4-in-1 USB-C Hub Adapter Type-C Hub HDMI F...  14.25  2023-05-11\n",
      "145  8/6/4-in-1 USB-C Hub Adapter Type-C Hub HDMI F...  14.25  2023-05-11\n",
      "146  8/6/4-in-1 USB-C Hub Adapter Type-C Hub HDMI F...  14.25  2023-05-11\n",
      "147  8/6/4-in-1 USB-C Hub Adapter Type-C Hub HDMI F...  14.25  2023-05-11\n",
      "148  8/6/4-in-1 USB-C Hub Adapter Type-C Hub HDMI F...  14.25  2023-05-11\n",
      "\n",
      "[149 rows x 3 columns]\n"
     ]
    }
   ],
   "source": [
    "import pandas as pd\n",
    "df=pd.read_csv(r'C:\\Users\\NKaur\\eBay Web Scraping Project\\eBay web scraper dataset.csv')\n",
    "print(df)\n"
   ]
  },
  {
   "cell_type": "code",
   "execution_count": 14,
   "id": "886ae041",
   "metadata": {},
   "outputs": [],
   "source": [
    "# Script for sending email when the price gets under a certain level\n",
    "\n",
    "def send_mail():\n",
    "    server = smtplib.SMTP_SSL('smtp.gmail.com',465)\n",
    "    server.ehlo()\n",
    "    #server.starttls()\n",
    "    server.login('jottoor18@gmail.com','xxxxxxxx')\n",
    "    subject = \"The adapter you want is below $15! Now is your chance to buy!\"\n",
    "    body = \"Nav, This is the moment we have been waiting for. Now is your chance to win the supercheap adapter. Don't mess it up! Link here: https://www.amazon.com/Funny-Data-Systems-Business-Analyst/dp/B07FNW9FGJ/ref=sr_1_3?dchild=1&keywords=data+analyst+tshirt&qid=1626655184&sr=8-3\"\n",
    "   \n",
    "    msg = f\"Subject: {subject}\\n\\n{body}\"\n",
    "    \n",
    "    server.sendmail(\n",
    "        'jottoor18@gmail.com',\n",
    "        msg)\n",
    "    \n",
    "    if (price<15):\n",
    "        send_mail()\n",
    "        \n",
    "    \n",
    "    \n",
    "    \n",
    "        "
   ]
  },
  {
   "cell_type": "code",
   "execution_count": 4,
   "id": "204564ab",
   "metadata": {},
   "outputs": [
    {
     "name": "stdout",
     "output_type": "stream",
     "text": [
      "Current working directory is   C:\\Users\\NKaur\\OneDrive - Communications Test Design, Inc\\Data Analyst Projects\\Python Projects\n",
      "New working directory is:  C:\\Users\\NKaur\\OneDrive - Communications Test Design, Inc\\Data Analyst Projects\\Python Projects\n"
     ]
    }
   ],
   "source": [
    "#import os\n",
    "#cwd=os.getcwd()\n",
    "#print(\"Current working directory is  \",cwd)\n",
    "#absoulte_path=r'C:\\Users\\NKaur\\OneDrive - Communications Test Design, Inc\\Data Analyst Projects\\Python Projects'\n",
    "#new_cwd=os.chdir(absoulte_path)\n",
    "#print('New working directory is: ', os.getcwd())"
   ]
  },
  {
   "cell_type": "code",
   "execution_count": null,
   "id": "d9bac8aa",
   "metadata": {},
   "outputs": [],
   "source": []
  }
 ],
 "metadata": {
  "kernelspec": {
   "display_name": "Python 3 (ipykernel)",
   "language": "python",
   "name": "python3"
  },
  "language_info": {
   "codemirror_mode": {
    "name": "ipython",
    "version": 3
   },
   "file_extension": ".py",
   "mimetype": "text/x-python",
   "name": "python",
   "nbconvert_exporter": "python",
   "pygments_lexer": "ipython3",
   "version": "3.10.9"
  }
 },
 "nbformat": 4,
 "nbformat_minor": 5
}
