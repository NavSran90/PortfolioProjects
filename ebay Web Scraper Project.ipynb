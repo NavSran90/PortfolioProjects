{
 "cells": [
  {
   "cell_type": "code",
   "execution_count": 1,
   "id": "e192ca1e",
   "metadata": {},
   "outputs": [],
   "source": [
    "#import libraries\n",
    "from bs4 import BeautifulSoup #library to pull data out of HTMl and XML files\n",
    "import requests\n",
    "import time\n",
    "import datetime\n",
    "import smtplib"
   ]
  },
  {
   "cell_type": "code",
   "execution_count": 2,
   "id": "45e6055d",
   "metadata": {},
   "outputs": [
    {
     "name": "stdout",
     "output_type": "stream",
     "text": [
      "\n",
      "          8/6/4-in-1 USB-C Hub Adapter Type-C Hub HDMI For MacBook Pro/Air iPad Pro Laptop\n",
      "         \n",
      "\n",
      "\n",
      "\n",
      "\n",
      "\n",
      "\n",
      "                    AU $14.25 each\n",
      "                    \n",
      "\n",
      "\n",
      "\n",
      "\n",
      "\n"
     ]
    }
   ],
   "source": [
    "#connect to website\n",
    "URL='https://www.ebay.com.au/itm/403721064985?_trkparms=amclksrc%3DITM%26aid%3D777008%26algo%3DPERSONAL.TOPIC%26ao%3D1%26asc%3D20221102144100%26meid%3D01478d091bf34af7b392a657a40c644e%26pid%3D101259%26rk%3D1%26rkt%3D1%26itm%3D403721064985%26pmt%3D1%26noa%3D1%26pg%3D2380057%26algv%3DPersonalizedTopicsV2WithWatchlistFeaturesAndTopicMLR&_trksid=p2380057.c101259.m47269&_trkparms=pageci%3Aca702d8d-ef98-11ed-8eb5-f624646b0e42%7Cparentrq%3A085d27d81880a45b15dc9795fffdbf32%7Ciid%3A2'\n",
    "#http://httpbin.org/get (Get headers for your machine)\n",
    "headers = {\"User-Agent\": \"Mozilla/5.0 (Windows NT 10.0; Win64; x64) AppleWebKit/537.36 (KHTML, like Gecko) Chrome/113.0.0.0 Safari/537.36 Edg/113.0.1774.35\"}\n",
    "\n",
    "page = requests.get(URL,headers=headers)\n",
    "\n",
    "soup1=BeautifulSoup(page.content,\"html.parser\")\n",
    "\n",
    "soup2=BeautifulSoup(soup1.prettify(),\"html.parser\") #makes the html content look prettier\n",
    "\n",
    "title=soup2.find(id='vi-lkhdr-itmTitl').get_text()\n",
    "\n",
    "price=soup2.find(itemprop ='price').get_text()\n",
    "\n",
    "print(title)\n",
    "\n",
    "print(price)\n"
   ]
  },
  {
   "cell_type": "code",
   "execution_count": 3,
   "id": "0543c595",
   "metadata": {},
   "outputs": [
    {
     "name": "stdout",
     "output_type": "stream",
     "text": [
      "8/6/4-in-1 USB-C Hub Adapter Type-C Hub HDMI For MacBook Pro/Air iPad Pro Laptop\n",
      "14.25\n"
     ]
    }
   ],
   "source": [
    "#Cleaning the data(making it more usable to import it into a csv file)\n",
    "price=price.strip()[:-5]\n",
    "price=price.strip()[4:]\n",
    "title=title.strip()\n",
    "print(title)\n",
    "print(price)\n"
   ]
  },
  {
   "cell_type": "code",
   "execution_count": 4,
   "id": "5efb16d0",
   "metadata": {},
   "outputs": [
    {
     "name": "stdout",
     "output_type": "stream",
     "text": [
      "2023-05-15\n"
     ]
    }
   ],
   "source": [
    "import datetime\n",
    "today=datetime.date.today()\n",
    "print(today)"
   ]
  },
  {
   "cell_type": "code",
   "execution_count": 5,
   "id": "b15860c4",
   "metadata": {},
   "outputs": [],
   "source": [
    "#creating a csv file\n",
    "import csv\n",
    "header=['Product Name','Price','Date']\n",
    "data=[title,price,today]\n",
    "\n",
    "#with open('eBay web scraper dataset.csv','w',newline='',encoding='UTF8') as f:\n",
    "    #writer=csv.writer(f)\n",
    "    #writer.writerow(header)\n",
    "    #writer.writerow(data)"
   ]
  },
  {
   "cell_type": "code",
   "execution_count": 13,
   "id": "f2878513",
   "metadata": {
    "scrolled": true
   },
   "outputs": [
    {
     "name": "stdout",
     "output_type": "stream",
     "text": [
      "                                          Product Name  Price        Date\n",
      "0    USB-C Hub Adapter Type-C Hub HDMI For MacBook ...  14.25  2023-05-11\n",
      "1    USB-C Hub Adapter Type-C Hub HDMI For MacBook ...  14.25  2023-05-11\n",
      "2    USB-C Hub Adapter Type-C Hub HDMI For MacBook ...  14.25  2023-05-11\n",
      "3    USB-C Hub Adapter Type-C Hub HDMI For MacBook ...  14.25  2023-05-11\n",
      "4    USB-C Hub Adapter Type-C Hub HDMI For MacBook ...  14.25  2023-05-11\n",
      "..                                                 ...    ...         ...\n",
      "145  8/6/4-in-1 USB-C Hub Adapter Type-C Hub HDMI F...  14.25  2023-05-11\n",
      "146  8/6/4-in-1 USB-C Hub Adapter Type-C Hub HDMI F...  14.25  2023-05-11\n",
      "147  8/6/4-in-1 USB-C Hub Adapter Type-C Hub HDMI F...  14.25  2023-05-11\n",
      "148  8/6/4-in-1 USB-C Hub Adapter Type-C Hub HDMI F...  14.25  2023-05-11\n",
      "149  8/6/4-in-1 USB-C Hub Adapter Type-C Hub HDMI F...  14.25  2023-05-15\n",
      "\n",
      "[150 rows x 3 columns]\n"
     ]
    }
   ],
   "source": [
    "import pandas as pd\n",
    "df=pd.read_csv(r'C:\\Users\\NKaur\\OneDrive - Communications Test Design, Inc\\Data Analyst Projects\\Python Projects\\eBay Web Scraping Project\\eBay web scraper dataset.csv')\n",
    "print(df)"
   ]
  },
  {
   "cell_type": "code",
   "execution_count": 7,
   "id": "dfa63469",
   "metadata": {},
   "outputs": [],
   "source": [
    "#Append data to the csv\n",
    "with open('eBay web scraper dataset.csv','a+',newline='',encoding='UTF8') as f:\n",
    "    writer=csv.writer(f)\n",
    "    writer.writerow(data)"
   ]
  },
  {
   "cell_type": "code",
   "execution_count": 10,
   "id": "66d2b017",
   "metadata": {},
   "outputs": [],
   "source": [
    "#Create a funnction to automate the process of adding the data to the CSV\n",
    "def check_price():\n",
    "    \n",
    "    URL='https://www.ebay.com.au/itm/403721064985?_trkparms=amclksrc%3DITM%26aid%3D777008%26algo%3DPERSONAL.TOPIC%26ao%3D1%26asc%3D20221102144100%26meid%3D01478d091bf34af7b392a657a40c644e%26pid%3D101259%26rk%3D1%26rkt%3D1%26itm%3D403721064985%26pmt%3D1%26noa%3D1%26pg%3D2380057%26algv%3DPersonalizedTopicsV2WithWatchlistFeaturesAndTopicMLR&_trksid=p2380057.c101259.m47269&_trkparms=pageci%3Aca702d8d-ef98-11ed-8eb5-f624646b0e42%7Cparentrq%3A085d27d81880a45b15dc9795fffdbf32%7Ciid%3A2'\n",
    "\n",
    "    headers = {\"User-Agent\": \"Mozilla/5.0 (Windows NT 10.0; Win64; x64) AppleWebKit/537.36 (KHTML, like Gecko) Chrome/113.0.0.0 Safari/537.36 Edg/113.0.1774.35\"}\n",
    "\n",
    "    page = requests.get(URL,headers=headers)\n",
    "\n",
    "    soup1=BeautifulSoup(page.content,\"html.parser\")\n",
    "\n",
    "    soup2=BeautifulSoup(soup1.prettify(),\"html.parser\") #makes the html content look prettier\n",
    "\n",
    "    title=soup2.find(id='vi-lkhdr-itmTitl').get_text()\n",
    "\n",
    "    price=soup2.find(itemprop ='price').get_text()\n",
    "\n",
    "    price=price.strip()[:-5]\n",
    "\n",
    "    price=price.strip()[4:]\n",
    "\n",
    "    title=title.strip()\n",
    "\n",
    "    import datetime\n",
    "\n",
    "    today=datetime.date.today()\n",
    "\n",
    "    import csv\n",
    "\n",
    "    header=['Product Name','Price','Date']\n",
    "\n",
    "    data=[title,price,today]\n",
    "\n",
    "    with open('eBay web scraper dataset.csv','a+',newline='',encoding='UTF8') as f:\n",
    "    \n",
    "      writer=csv.writer(f)\n",
    "    \n",
    "      writer.writerow(data)\n",
    "             \n",
    "        "
   ]
  },
  {
   "cell_type": "code",
   "execution_count": 8,
   "id": "646129b0",
   "metadata": {},
   "outputs": [],
   "source": [
    "#Set a timer to run the above function in the background\n",
    "while(True):\n",
    "    check_price()\n",
    "    time.sleep(10)"
   ]
  },
  {
   "cell_type": "code",
   "execution_count": 12,
   "id": "d60cca12",
   "metadata": {},
   "outputs": [
    {
     "name": "stdout",
     "output_type": "stream",
     "text": [
      "                                          Product Name  Price        Date\n",
      "0    USB-C Hub Adapter Type-C Hub HDMI For MacBook ...  14.25  2023-05-11\n",
      "1    USB-C Hub Adapter Type-C Hub HDMI For MacBook ...  14.25  2023-05-11\n",
      "2    USB-C Hub Adapter Type-C Hub HDMI For MacBook ...  14.25  2023-05-11\n",
      "3    USB-C Hub Adapter Type-C Hub HDMI For MacBook ...  14.25  2023-05-11\n",
      "4    USB-C Hub Adapter Type-C Hub HDMI For MacBook ...  14.25  2023-05-11\n",
      "..                                                 ...    ...         ...\n",
      "145  8/6/4-in-1 USB-C Hub Adapter Type-C Hub HDMI F...  14.25  2023-05-11\n",
      "146  8/6/4-in-1 USB-C Hub Adapter Type-C Hub HDMI F...  14.25  2023-05-11\n",
      "147  8/6/4-in-1 USB-C Hub Adapter Type-C Hub HDMI F...  14.25  2023-05-11\n",
      "148  8/6/4-in-1 USB-C Hub Adapter Type-C Hub HDMI F...  14.25  2023-05-11\n",
      "149  8/6/4-in-1 USB-C Hub Adapter Type-C Hub HDMI F...  14.25  2023-05-15\n",
      "\n",
      "[150 rows x 3 columns]\n"
     ]
    }
   ],
   "source": [
    "import pandas as pd\n",
    "df=pd.read_csv(r'C:\\Users\\NKaur\\OneDrive - Communications Test Design, Inc\\Data Analyst Projects\\Python Projects\\eBay Web Scraping Project\\eBay web scraper dataset.csv')\n",
    "print(df)\n"
   ]
  },
  {
   "cell_type": "code",
   "execution_count": null,
   "id": "886ae041",
   "metadata": {},
   "outputs": [],
   "source": [
    "\n",
    "    \n",
    "        "
   ]
  },
  {
   "cell_type": "code",
   "execution_count": null,
   "id": "204564ab",
   "metadata": {},
   "outputs": [],
   "source": []
  },
  {
   "cell_type": "code",
   "execution_count": null,
   "id": "d9bac8aa",
   "metadata": {},
   "outputs": [],
   "source": []
  }
 ],
 "metadata": {
  "kernelspec": {
   "display_name": "Python 3 (ipykernel)",
   "language": "python",
   "name": "python3"
  },
  "language_info": {
   "codemirror_mode": {
    "name": "ipython",
    "version": 3
   },
   "file_extension": ".py",
   "mimetype": "text/x-python",
   "name": "python",
   "nbconvert_exporter": "python",
   "pygments_lexer": "ipython3",
   "version": "3.10.9"
  }
 },
 "nbformat": 4,
 "nbformat_minor": 5
}
