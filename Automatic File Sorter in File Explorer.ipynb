{
 "cells": [
  {
   "cell_type": "markdown",
   "id": "ae47ca36",
   "metadata": {},
   "source": [
    "Automatic File Sorter in File Explorer\n"
   ]
  },
  {
   "cell_type": "code",
   "execution_count": 69,
   "id": "9adfd0c5",
   "metadata": {},
   "outputs": [],
   "source": [
    "#shutil- it is a module in python, which allows to automate the process of moving files etc in the file explorer\n",
    "import os, shutil"
   ]
  },
  {
   "cell_type": "code",
   "execution_count": 70,
   "id": "6ee1ceac",
   "metadata": {},
   "outputs": [],
   "source": [
    "#Get the path where you want to do the file sorting..'r' (raw) is used because of the /. \n",
    "path = r\"C:/Users/NKaur/Pictures/\""
   ]
  },
  {
   "cell_type": "code",
   "execution_count": 71,
   "id": "8f85aa40",
   "metadata": {},
   "outputs": [],
   "source": [
    "#It lists all the files in the specified path above\n",
    "file_name=os.listdir(path)"
   ]
  },
  {
   "cell_type": "code",
   "execution_count": 73,
   "id": "2ba34909",
   "metadata": {},
   "outputs": [],
   "source": [
    "#creates the separate folders if they dont exist already in the specified path\n",
    "folder_names=['csv files','png files','jpg files','txt files','ini files']\n",
    "for loop in range(0,5):\n",
    "    if not os.path.exists(path + folder_names[loop]):\n",
    "        print(path + folder_names[loop])\n",
    "        os.makedirs(path + folder_names[loop])\n",
    "        \n",
    "# This moves the respective files in the specified folders\n",
    "for file in file_name:\n",
    "    if \".csv\" in file and not os.path.exists(path + \"csv files/\" + file):\n",
    "        shutil.move(path+file,path + \"csv files/\" + file)\n",
    "    elif \".ini\" in file and not os.path.exists(path + \"ini files/\" + file):\n",
    "        shutil.move(path+file,path + \"ini files/\" + file)\n",
    "    elif \".png\" in file and not os.path.exists(path + \"png files/\" + file):\n",
    "        shutil.move(path+file,path + \"png files/\" + file)\n",
    "    elif \".PNG\" in file and not os.path.exists(path + \"png files/\" + file):\n",
    "        shutil.move(path+file,path + \"png files/\" + file)\n",
    "    elif \".txt\" in file and not os.path.exists(path + \"txt files/\" + file):\n",
    "        shutil.move(path+file,path + \"txt files/\" + file)\n",
    "    elif \".jpg\" in file and not os.path.exists(path + \"jpg files/\" + file):\n",
    "        shutil.move(path+file,path + \"jpg files/\" + file)\n",
    "        "
   ]
  },
  {
   "cell_type": "code",
   "execution_count": 34,
   "id": "aeb8cf47",
   "metadata": {},
   "outputs": [],
   "source": []
  },
  {
   "cell_type": "code",
   "execution_count": 61,
   "id": "3f4b7652",
   "metadata": {},
   "outputs": [],
   "source": []
  },
  {
   "cell_type": "code",
   "execution_count": null,
   "id": "7231aee7",
   "metadata": {},
   "outputs": [],
   "source": []
  },
  {
   "cell_type": "code",
   "execution_count": 62,
   "id": "2e20ea60",
   "metadata": {},
   "outputs": [],
   "source": [
    "\n",
    "    "
   ]
  },
  {
   "cell_type": "code",
   "execution_count": null,
   "id": "bc170218",
   "metadata": {},
   "outputs": [],
   "source": []
  },
  {
   "cell_type": "code",
   "execution_count": null,
   "id": "d9d945dd",
   "metadata": {},
   "outputs": [],
   "source": []
  }
 ],
 "metadata": {
  "kernelspec": {
   "display_name": "Python 3 (ipykernel)",
   "language": "python",
   "name": "python3"
  },
  "language_info": {
   "codemirror_mode": {
    "name": "ipython",
    "version": 3
   },
   "file_extension": ".py",
   "mimetype": "text/x-python",
   "name": "python",
   "nbconvert_exporter": "python",
   "pygments_lexer": "ipython3",
   "version": "3.10.9"
  }
 },
 "nbformat": 4,
 "nbformat_minor": 5
}
